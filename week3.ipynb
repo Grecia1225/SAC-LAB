{
 "cells": [
  {
   "cell_type": "code",
   "execution_count": 1,
   "id": "769279c1-aab0-4eab-b560-d4dd8f57352b",
   "metadata": {},
   "outputs": [
    {
     "name": "stdin",
     "output_type": "stream",
     "text": [
      "Enter your name:  grecia\n"
     ]
    },
    {
     "name": "stdout",
     "output_type": "stream",
     "text": [
      "Welcome  grecia\n"
     ]
    }
   ],
   "source": [
    "name=input(\"Enter your name: \")\n",
    "print(\"Welcome \",name)"
   ]
  },
  {
   "cell_type": "code",
   "execution_count": 2,
   "id": "d321e4c8-fa7a-4af3-a978-a70a96d8d8c4",
   "metadata": {},
   "outputs": [
    {
     "name": "stdin",
     "output_type": "stream",
     "text": [
      "Enter the value of a:  2\n",
      "Enter the value of b:  4\n"
     ]
    },
    {
     "name": "stdout",
     "output_type": "stream",
     "text": [
      "24\n"
     ]
    }
   ],
   "source": [
    "a=input(\"Enter the value of a: \")\n",
    "b=input(\"Enter the value of b: \")\n",
    "print(a+b)"
   ]
  },
  {
   "cell_type": "code",
   "execution_count": 3,
   "id": "639de976-d754-4769-a786-4ed3b7b3d781",
   "metadata": {},
   "outputs": [
    {
     "name": "stdin",
     "output_type": "stream",
     "text": [
      "Enter the value of a:  7\n",
      "Enter the value of b:  8\n"
     ]
    },
    {
     "name": "stdout",
     "output_type": "stream",
     "text": [
      "15\n"
     ]
    }
   ],
   "source": [
    "a=int(input(\"Enter the value of a: \"))\n",
    "b=int(input(\"Enter the value of b: \"))\n",
    "print(a+b)"
   ]
  },
  {
   "cell_type": "code",
   "execution_count": 4,
   "id": "8d5987d4-438b-47e5-9367-96aa7576c529",
   "metadata": {},
   "outputs": [
    {
     "name": "stdin",
     "output_type": "stream",
     "text": [
      "What is your passion? hacking\n"
     ]
    },
    {
     "name": "stdout",
     "output_type": "stream",
     "text": [
      "hacking is my passion\n"
     ]
    }
   ],
   "source": [
    "passion=input(\"What is your passion?\")\n",
    "print(\"{0} is my passion\".format(passion))"
   ]
  },
  {
   "cell_type": "code",
   "execution_count": 5,
   "id": "5e60f1aa-9b5a-4094-ac32-caaed17b76ed",
   "metadata": {},
   "outputs": [
    {
     "name": "stdin",
     "output_type": "stream",
     "text": [
      "Enter your name:  grecia\n",
      "Enter your roll number:  90\n"
     ]
    },
    {
     "name": "stdout",
     "output_type": "stream",
     "text": [
      "grecia is my name. My roll number is 90\n"
     ]
    }
   ],
   "source": [
    "name=input(\"Enter your name: \")\n",
    "rollno=int(input(\"Enter your roll number: \"))\n",
    "print(\"{0} is my name. My roll number is {1}\".format(name,rollno))"
   ]
  },
  {
   "cell_type": "code",
   "execution_count": 6,
   "id": "1f6888c9-c8e4-4db3-8392-ea5f567fc1fa",
   "metadata": {},
   "outputs": [
    {
     "name": "stdout",
     "output_type": "stream",
     "text": [
      "The values of a is 10 and b is 20\n",
      "The values of a is 20 and b is 10\n"
     ]
    }
   ],
   "source": [
    "#positional change of indexes of arguments\n",
    "a=10\n",
    "b=20\n",
    "print(\"The values of a is {0} and b is {1}\".format(a,b))\n",
    "print(\"The values of a is {1} and b is {0}\".format(a,b))"
   ]
  },
  {
   "cell_type": "code",
   "execution_count": 7,
   "id": "de6e8fc6-febd-450b-8cd6-6abf3edd476e",
   "metadata": {},
   "outputs": [
    {
     "name": "stdout",
     "output_type": "stream",
     "text": [
      "You can do the impossible. Never ever give up.\n"
     ]
    }
   ],
   "source": [
    "print(\"You can do the {a}. {b}\".format(a=\"impossible\",b=\"Never ever give up.\"))"
   ]
  },
  {
   "cell_type": "code",
   "execution_count": 8,
   "id": "ee2962d5-bd34-4697-bb43-7fb55b59f600",
   "metadata": {},
   "outputs": [
    {
     "name": "stdout",
     "output_type": "stream",
     "text": [
      "addition of 20 and 30 is 50\n"
     ]
    }
   ],
   "source": [
    "a=20\n",
    "b=30\n",
    "print(f\"addition of {a} and {b} is {a+b}\")"
   ]
  },
  {
   "cell_type": "code",
   "execution_count": 9,
   "id": "73cfe5b6-6430-4a1c-9c97-1e3f84451173",
   "metadata": {},
   "outputs": [
    {
     "name": "stdin",
     "output_type": "stream",
     "text": [
      "Enter the radius of the circle:  48\n"
     ]
    },
    {
     "name": "stdout",
     "output_type": "stream",
     "text": [
      "The area of cirle is 7238.016\n",
      "The circumference of circle is 301.584\n"
     ]
    }
   ],
   "source": [
    "radius=int(input(\"Enter the radius of the circle: \"))\n",
    "area_of_circle=3.1415*radius*radius\n",
    "circumference=2*3.1415*radius\n",
    "print(f\"The area of cirle is {area_of_circle}\")\n",
    "print(f\"The circumference of circle is {circumference}\")"
   ]
  },
  {
   "cell_type": "code",
   "execution_count": 10,
   "id": "89eb4d65-95ef-45c4-9e11-d908f8aed485",
   "metadata": {},
   "outputs": [
    {
     "name": "stdin",
     "output_type": "stream",
     "text": [
      "Enter your birth year: 2006\n"
     ]
    },
    {
     "name": "stdout",
     "output_type": "stream",
     "text": [
      "You are 19 years old\n"
     ]
    }
   ],
   "source": [
    "birth_year=int(input(\"Enter your birth year:\"))\n",
    "current_year=2025\n",
    "age=current_year-birth_year\n",
    "print(f\"You are {age} years old\")"
   ]
  },
  {
   "cell_type": "code",
   "execution_count": 11,
   "id": "ce835fd8-c8ed-4e2b-85fe-1bc73507cb19",
   "metadata": {},
   "outputs": [
    {
     "name": "stdin",
     "output_type": "stream",
     "text": [
      "Enter your cgpa:  8.8\n"
     ]
    },
    {
     "name": "stdout",
     "output_type": "stream",
     "text": [
      "Good in academics\n"
     ]
    }
   ],
   "source": [
    "cgpa=float(input(\"Enter your cgpa: \"))\n",
    "if cgpa>9.2:\n",
    "    print(\"Topper\")\n",
    "elif cgpa>8 and cgpa<9.2:\n",
    "    print(\"Good in academics\")\n",
    "else:\n",
    "    print(\"Work hard\")"
   ]
  },
  {
   "cell_type": "code",
   "execution_count": null,
   "id": "c70be26e-9294-457e-86bf-c16604f4e382",
   "metadata": {},
   "outputs": [
    {
     "name": "stdin",
     "output_type": "stream",
     "text": [
      "Enter total marks:  25\n"
     ]
    }
   ],
   "source": [
    "total_marks=int(input(\"Enter total marks: \"))\n",
    "marks_obtained=int(input(\"Enter the marks obtained: \"))\n",
    "percentage=(marks_obtained/total_marks)*100\n",
    "whole_percentage=int(percentage)\n",
    "\n",
    "print(f\"Exact percentage:{percentage}%\")\n",
    "print(f\"Whole percentage shown on report:{whole_percentage}%\")"
   ]
  },
  {
   "cell_type": "code",
   "execution_count": null,
   "id": "f28699c6-be61-417a-a06a-91ca4c20c85d",
   "metadata": {},
   "outputs": [],
   "source": []
  }
 ],
 "metadata": {
  "kernelspec": {
   "display_name": "Python [conda env:base] *",
   "language": "python",
   "name": "conda-base-py"
  },
  "language_info": {
   "codemirror_mode": {
    "name": "ipython",
    "version": 3
   },
   "file_extension": ".py",
   "mimetype": "text/x-python",
   "name": "python",
   "nbconvert_exporter": "python",
   "pygments_lexer": "ipython3",
   "version": "3.13.5"
  }
 },
 "nbformat": 4,
 "nbformat_minor": 5
}
