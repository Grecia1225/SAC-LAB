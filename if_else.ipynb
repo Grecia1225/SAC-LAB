{
 "cells": [
  {
   "cell_type": "code",
   "execution_count": null,
   "id": "a9761662-aa0b-41ff-90c7-14a5810cf9fd",
   "metadata": {},
   "outputs": [],
   "source": []
  }
 ],
 "metadata": {
  "kernelspec": {
   "display_name": "",
   "name": ""
  },
  "language_info": {
   "name": ""
  }
 },
 "nbformat": 4,
 "nbformat_minor": 5
}
