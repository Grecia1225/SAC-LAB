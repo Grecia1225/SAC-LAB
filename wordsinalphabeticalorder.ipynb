{
 "cells": [
  {
   "cell_type": "code",
   "execution_count": null,
   "id": "71302119-aa1e-4371-ada7-74d3ac8eeb4b",
   "metadata": {},
   "outputs": [],
   "source": [
    "#Print all unique words from a text file in alphabetical order\n",
    "filename=input(\"Enter filename:\")\n",
    "\n",
    "try:\n",
    "    with open(filename,'r') as file:\n",
    "        text=file.read()\n",
    "    words=text.split()\n",
    "    clean_words=[word.strip('.,!?()[]{}\":;') for word in words]\n",
    "    unique_words=sorted(set(clean_words),key=str.lower)\n",
    "    print(\"\\nUnique words in alphabetical order:\")\n",
    "    for word in unique_words:\n",
    "        print(word)\n",
    "except FileNotFoundError:\n",
    "    print(\"File not found. Please check the file name and try again.\")"
   ]
  }
 ],
 "metadata": {
  "kernelspec": {
   "display_name": "Python [conda env:base] *",
   "language": "python",
   "name": "conda-base-py"
  },
  "language_info": {
   "codemirror_mode": {
    "name": "ipython",
    "version": 3
   },
   "file_extension": ".py",
   "mimetype": "text/x-python",
   "name": "python",
   "nbconvert_exporter": "python",
   "pygments_lexer": "ipython3",
   "version": "3.13.5"
  }
 },
 "nbformat": 4,
 "nbformat_minor": 5
}
