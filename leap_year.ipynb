{
 "cells": [
  {
   "cell_type": "code",
   "execution_count": null,
   "id": "9cd8e8ea-6ee6-4466-9a8b-9f04246d272e",
   "metadata": {},
   "outputs": [],
   "source": []
  }
 ],
 "metadata": {
  "kernelspec": {
   "display_name": "",
   "name": ""
  },
  "language_info": {
   "name": ""
  }
 },
 "nbformat": 4,
 "nbformat_minor": 5
}
