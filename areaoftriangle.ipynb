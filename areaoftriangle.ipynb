{
 "cells": [
  {
   "cell_type": "code",
   "execution_count": 10,
   "id": "57d936b8-2d2c-4c37-b8c9-8647281d1b15",
   "metadata": {},
   "outputs": [
    {
     "name": "stdin",
     "output_type": "stream",
     "text": [
      "enter side 1: 3\n",
      "enter side 2: 4\n",
      "enter side 3: 5\n"
     ]
    },
    {
     "name": "stdout",
     "output_type": "stream",
     "text": [
      "Area of triangle is:6.00\n"
     ]
    }
   ],
   "source": [
    "import sys\n",
    "import math\n",
    "s1=float(input(\"enter side 1:\"))\n",
    "s2=float(input(\"enter side 2:\"))\n",
    "s3=float(input(\"enter side 3:\"))\n",
    "s=(s1+s2+s3)/2\n",
    "area=math.sqrt(s*(s-s1)*(s-s2)*(s-s3))\n",
    "print(f\"Area of triangle is:{area:.2f}\")"
   ]
  },
  {
   "cell_type": "code",
   "execution_count": null,
   "id": "848e00c2-7d2b-4e90-a8cc-322ded867f1d",
   "metadata": {},
   "outputs": [],
   "source": []
  }
 ],
 "metadata": {
  "kernelspec": {
   "display_name": "Python [conda env:base] *",
   "language": "python",
   "name": "conda-base-py"
  },
  "language_info": {
   "codemirror_mode": {
    "name": "ipython",
    "version": 3
   },
   "file_extension": ".py",
   "mimetype": "text/x-python",
   "name": "python",
   "nbconvert_exporter": "python",
   "pygments_lexer": "ipython3",
   "version": "3.13.5"
  }
 },
 "nbformat": 4,
 "nbformat_minor": 5
}
