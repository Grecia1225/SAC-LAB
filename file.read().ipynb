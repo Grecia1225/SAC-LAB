{
 "cells": [
  {
   "cell_type": "code",
   "execution_count": null,
   "id": "6f88d475-dc75-453d-8775-f0d5f47c5a7f",
   "metadata": {},
   "outputs": [],
   "source": []
  }
 ],
 "metadata": {
  "kernelspec": {
   "display_name": "",
   "name": ""
  },
  "language_info": {
   "name": ""
  }
 },
 "nbformat": 4,
 "nbformat_minor": 5
}
