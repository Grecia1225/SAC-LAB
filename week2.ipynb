{
 "cells": [
  {
   "cell_type": "code",
   "execution_count": 1,
   "id": "19e89fbc-3544-4304-819c-f9ba3a7cfb0e",
   "metadata": {},
   "outputs": [
    {
     "name": "stdout",
     "output_type": "stream",
     "text": [
      "['False', 'None', 'True', 'and', 'as', 'assert', 'async', 'await', 'break', 'class', 'continue', 'def', 'del', 'elif', 'else', 'except', 'finally', 'for', 'from', 'global', 'if', 'import', 'in', 'is', 'lambda', 'nonlocal', 'not', 'or', 'pass', 'raise', 'return', 'try', 'while', 'with', 'yield']\n",
      "35\n"
     ]
    }
   ],
   "source": [
    "import keyword\n",
    "print(keyword.kwlist)\n",
    "print(len(keyword.kwlist))"
   ]
  },
  {
   "cell_type": "code",
   "execution_count": 2,
   "id": "3ece518a-0eca-4ddc-a662-b6b9c3f6d779",
   "metadata": {},
   "outputs": [
    {
     "name": "stdout",
     "output_type": "stream",
     "text": [
      "python\n"
     ]
    }
   ],
   "source": [
    "x=3 #x is a type of int\n",
    "x=\"python\" #x is a type of str\n",
    "print(x)"
   ]
  },
  {
   "cell_type": "code",
   "execution_count": 3,
   "id": "6c5bbdb9-408a-4899-9128-2f971dda4882",
   "metadata": {},
   "outputs": [],
   "source": [
    "myvar=\"PYTHON\"\n",
    "my_var=\"PYTHON\"\n",
    "_my_var=\"PYTHON\"\n",
    "myVar=\"PYTHON\"\n",
    "MYVAR=\"PYTHON\"\n",
    "myvar2=\"PYTHON\""
   ]
  },
  {
   "cell_type": "code",
   "execution_count": 4,
   "id": "c68d9b3c-576f-452f-b6a0-6d1060b07850",
   "metadata": {},
   "outputs": [
    {
     "ename": "SyntaxError",
     "evalue": "invalid decimal literal (3288369382.py, line 2)",
     "output_type": "error",
     "traceback": [
      "\u001b[1;36m  Cell \u001b[1;32mIn[4], line 2\u001b[1;36m\u001b[0m\n\u001b[1;33m    2myvar=\"PYTHON\"\u001b[0m\n\u001b[1;37m    ^\u001b[0m\n\u001b[1;31mSyntaxError\u001b[0m\u001b[1;31m:\u001b[0m invalid decimal literal\n"
     ]
    }
   ],
   "source": [
    "#Illegal variables\n",
    "2myvar=\"PYTHON\"\n",
    "my-var=\"PYTHON\"\n",
    "My var=\"PYTHON\""
   ]
  },
  {
   "cell_type": "code",
   "execution_count": 5,
   "id": "5a489e72-8749-4448-8314-dc99b5b029fb",
   "metadata": {},
   "outputs": [
    {
     "name": "stdout",
     "output_type": "stream",
     "text": [
      "5\n",
      "-1\n",
      "0.6666666666666666\n",
      "0\n",
      "6\n",
      "2\n"
     ]
    }
   ],
   "source": [
    "x=2\n",
    "y=3\n",
    "print(x+y)\n",
    "print(x-y)\n",
    "print(x/y)\n",
    "print(x//y)\n",
    "print(x*y)\n",
    "print(x%y)"
   ]
  },
  {
   "cell_type": "code",
   "execution_count": 6,
   "id": "d2bae7cb-96f4-44e3-9619-fddd92892793",
   "metadata": {},
   "outputs": [
    {
     "name": "stdout",
     "output_type": "stream",
     "text": [
      "<class 'str'>\n",
      "<class 'int'>\n",
      "<class 'float'>\n"
     ]
    }
   ],
   "source": [
    "x=str(3)\n",
    "y=int(3)\n",
    "z=float(3)\n",
    "print(type(x))\n",
    "print(type(y))\n",
    "print(type(z))"
   ]
  },
  {
   "cell_type": "code",
   "execution_count": 7,
   "id": "033c32a9-defc-4e42-bb37-790ff9795204",
   "metadata": {},
   "outputs": [
    {
     "data": {
      "text/plain": [
       "3"
      ]
     },
     "execution_count": 7,
     "metadata": {},
     "output_type": "execute_result"
    }
   ],
   "source": [
    "int(3.55)"
   ]
  },
  {
   "cell_type": "code",
   "execution_count": 8,
   "id": "646bc080-d148-4e8c-9501-4e9c9cb5def0",
   "metadata": {},
   "outputs": [
    {
     "name": "stdout",
     "output_type": "stream",
     "text": [
      "<class 'int'>\n",
      "<class 'str'>\n"
     ]
    }
   ],
   "source": [
    "x=5\n",
    "y=\"AI-B\"\n",
    "print(type(x))\n",
    "print(type(y))"
   ]
  },
  {
   "cell_type": "code",
   "execution_count": 9,
   "id": "f3ac3622-930e-4e2d-960a-17cb2f3f0845",
   "metadata": {},
   "outputs": [
    {
     "name": "stdout",
     "output_type": "stream",
     "text": [
      "awesome\n",
      "good\n"
     ]
    }
   ],
   "source": [
    "x=\"awesome\"\n",
    "print(x)\n",
    "x='good'\n",
    "print(x)"
   ]
  },
  {
   "cell_type": "code",
   "execution_count": 10,
   "id": "40da3edf-1068-4eea-8499-ecc10440a4c4",
   "metadata": {},
   "outputs": [
    {
     "name": "stdout",
     "output_type": "stream",
     "text": [
      "list\n",
      "4\n"
     ]
    }
   ],
   "source": [
    "a=4\n",
    "A=\"list\"\n",
    "print(A)\n",
    "print(a)"
   ]
  },
  {
   "cell_type": "code",
   "execution_count": 11,
   "id": "10c72ef4-02ec-4440-ad28-fd0135328c81",
   "metadata": {},
   "outputs": [
    {
     "name": "stdout",
     "output_type": "stream",
     "text": [
      "SAC\n",
      "DBMS\n",
      "SEC-IOT\n"
     ]
    }
   ],
   "source": [
    "x,y,z=\"SAC\",\"DBMS\",\"SEC-IOT\"\n",
    "print(x)\n",
    "print(y)\n",
    "print(z)"
   ]
  },
  {
   "cell_type": "code",
   "execution_count": 12,
   "id": "71667544-3764-4a60-9611-0c9774293c3e",
   "metadata": {},
   "outputs": [
    {
     "name": "stdout",
     "output_type": "stream",
     "text": [
      "PYTHON\n",
      "PYTHON\n",
      "PYTHON\n"
     ]
    }
   ],
   "source": [
    "x=y=z=\"PYTHON\"\n",
    "print(x)\n",
    "print(y)\n",
    "print(z)"
   ]
  },
  {
   "cell_type": "code",
   "execution_count": 13,
   "id": "91a3ee78-3b5e-478d-abbd-9673b983684c",
   "metadata": {},
   "outputs": [
    {
     "name": "stdout",
     "output_type": "stream",
     "text": [
      "PYTHON IS AWESOME!\n"
     ]
    }
   ],
   "source": [
    "x,y,z=\"PYTHON\",\"IS\",\"AWESOME!\"\n",
    "print(x,y,z)"
   ]
  },
  {
   "cell_type": "code",
   "execution_count": 14,
   "id": "331d0d66-5448-4748-8398-ed072825f3b0",
   "metadata": {},
   "outputs": [
    {
     "name": "stdout",
     "output_type": "stream",
     "text": [
      "<class 'complex'>\n"
     ]
    }
   ],
   "source": [
    "z=2+3j\n",
    "print(type(z))"
   ]
  },
  {
   "cell_type": "code",
   "execution_count": 15,
   "id": "5d70a563-20a1-4b29-9807-0c3d5d94652d",
   "metadata": {},
   "outputs": [
    {
     "name": "stdout",
     "output_type": "stream",
     "text": [
      "<class 'bool'>\n"
     ]
    }
   ],
   "source": [
    "is_student=True\n",
    "print(type(is_student))"
   ]
  },
  {
   "cell_type": "code",
   "execution_count": 16,
   "id": "9aac138e-43c4-4527-a0c9-77116bea5f52",
   "metadata": {},
   "outputs": [
    {
     "name": "stdout",
     "output_type": "stream",
     "text": [
      "<class 'bool'>\n"
     ]
    }
   ],
   "source": [
    "is_emp=False\n",
    "print(type(is_emp))"
   ]
  },
  {
   "cell_type": "code",
   "execution_count": 17,
   "id": "00f15d6d-af3b-4f52-9e56-a7c912cb6a7e",
   "metadata": {},
   "outputs": [
    {
     "name": "stdout",
     "output_type": "stream",
     "text": [
      "Statistical Analysis and Computing using Python\n",
      "needs regorous practice\n",
      "<class 'str'>\n"
     ]
    }
   ],
   "source": [
    "sub_name='''Statistical Analysis and Computing using Python\n",
    "needs regorous practice'''\n",
    "print(sub_name)\n",
    "print(type(sub_name))"
   ]
  },
  {
   "cell_type": "code",
   "execution_count": 18,
   "id": "67af9af5-6197-4e1f-95d1-94e67db73cea",
   "metadata": {},
   "outputs": [
    {
     "name": "stdout",
     "output_type": "stream",
     "text": [
      "<class 'str'>\n",
      "<class 'str'>\n"
     ]
    }
   ],
   "source": [
    "name=\"a\"\n",
    "print(type(name))\n",
    "name='a'\n",
    "print(type(name))"
   ]
  },
  {
   "cell_type": "code",
   "execution_count": null,
   "id": "1fc74151-682d-4f0a-b477-99397fe8de36",
   "metadata": {},
   "outputs": [],
   "source": []
  }
 ],
 "metadata": {
  "kernelspec": {
   "display_name": "Python [conda env:base] *",
   "language": "python",
   "name": "conda-base-py"
  },
  "language_info": {
   "codemirror_mode": {
    "name": "ipython",
    "version": 3
   },
   "file_extension": ".py",
   "mimetype": "text/x-python",
   "name": "python",
   "nbconvert_exporter": "python",
   "pygments_lexer": "ipython3",
   "version": "3.13.5"
  }
 },
 "nbformat": 4,
 "nbformat_minor": 5
}
