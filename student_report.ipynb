{
 "cells": [
  {
   "cell_type": "code",
   "execution_count": null,
   "id": "b35ea601-3e1b-4705-ae4a-d869828fb08f",
   "metadata": {},
   "outputs": [],
   "source": []
  }
 ],
 "metadata": {
  "kernelspec": {
   "display_name": "",
   "name": ""
  },
  "language_info": {
   "name": ""
  }
 },
 "nbformat": 4,
 "nbformat_minor": 5
}
