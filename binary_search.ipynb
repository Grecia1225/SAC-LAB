{
 "cells": [
  {
   "cell_type": "code",
   "execution_count": null,
   "id": "5c04bce5-94ba-4c54-8d54-3efa87a24244",
   "metadata": {},
   "outputs": [],
   "source": []
  }
 ],
 "metadata": {
  "kernelspec": {
   "display_name": "",
   "name": ""
  },
  "language_info": {
   "name": ""
  }
 },
 "nbformat": 4,
 "nbformat_minor": 5
}
