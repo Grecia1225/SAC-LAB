{
 "cells": [
  {
   "cell_type": "code",
   "execution_count": null,
   "id": "3c7d7bd5-6ac7-4182-9a75-e97a3461f522",
   "metadata": {},
   "outputs": [],
   "source": []
  }
 ],
 "metadata": {
  "kernelspec": {
   "display_name": "",
   "name": ""
  },
  "language_info": {
   "name": ""
  }
 },
 "nbformat": 4,
 "nbformat_minor": 5
}
