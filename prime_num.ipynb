{
 "cells": [
  {
   "cell_type": "code",
   "execution_count": null,
   "id": "62aed3f7-d210-4fad-9845-9fb6b14c2de9",
   "metadata": {},
   "outputs": [],
   "source": []
  }
 ],
 "metadata": {
  "kernelspec": {
   "display_name": "",
   "name": ""
  },
  "language_info": {
   "name": ""
  }
 },
 "nbformat": 4,
 "nbformat_minor": 5
}
